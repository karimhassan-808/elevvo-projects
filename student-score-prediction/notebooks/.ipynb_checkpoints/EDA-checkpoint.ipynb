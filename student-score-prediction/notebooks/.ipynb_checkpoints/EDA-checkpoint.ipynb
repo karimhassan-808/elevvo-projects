{
 "cells": [
  {
   "cell_type": "markdown",
   "id": "df826003",
   "metadata": {},
   "source": [
    "# Dataset Exploration"
   ]
  },
  {
   "cell_type": "markdown",
   "id": "2146694d",
   "metadata": {},
   "source": [
    "## Imports"
   ]
  }
 ],
 "metadata": {
  "language_info": {
   "name": "python"
  }
 },
 "nbformat": 4,
 "nbformat_minor": 5
}
